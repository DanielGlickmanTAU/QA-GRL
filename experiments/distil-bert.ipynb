{
 "cells": [
  {
   "cell_type": "markdown",
   "source": [
    "## Experiment 1: Run fine tuned distiled bert\n",
    "### 1)see how well it can answer questions on text and not on text.\n",
    "### 2) see if it can answer questions on text from different place(machine learning book)"
   ],
   "metadata": {
    "collapsed": false,
    "pycharm": {
     "name": "#%% md\n"
    }
   }
  },
  {
   "cell_type": "markdown",
   "source": [
    "\n",
    "1) Loading the pretrained model:"
   ],
   "metadata": {
    "collapsed": false
   }
  },
  {
   "cell_type": "code",
   "execution_count": 1,
   "outputs": [],
   "source": [
    "from utils.debug import answer_question\n",
    "from utils.model_loading import get_model_and_tokenizer\n",
    "\n",
    "toknizer_model_name =\"distilbert-base-uncased\"\n",
    "model_name ='distilbert-base-uncased-distilled-squad'\n",
    "\n",
    "model, tokenizer = get_model_and_tokenizer(model_name, toknizer_model_name)"
   ],
   "metadata": {
    "collapsed": false,
    "pycharm": {
     "name": "#%%\n"
    }
   }
  },
  {
   "cell_type": "markdown",
   "source": [
    "2) Trying to answer some questions on a text"
   ],
   "metadata": {
    "collapsed": false
   }
  },
  {
   "cell_type": "code",
   "execution_count": 2,
   "outputs": [
    {
     "name": "stdout",
     "output_type": "stream",
     "text": [
      "What project put the first Americans into space?\n",
      "mercury\n",
      "--------------------\n",
      "What program was created to carry out these projects and missions?\n",
      "the apollo program\n",
      "--------------------\n",
      "What year did the first manned Apollo flight occur?\n",
      "1968\n",
      "--------------------\n",
      "What President is credited with the original notion of putting Americans in space?\n",
      "dwight d . eisenhower\n",
      "--------------------\n",
      "Who did the U.S. collaborate with on an Earth orbit mission in 1975?\n",
      "soviet union\n",
      "--------------------\n",
      "How long did Project Apollo run?\n",
      "from 1961 to 1972\n",
      "--------------------\n",
      "What program helped develop space travel techniques that Project Apollo used?\n",
      "gemini missions\n",
      "--------------------\n",
      "What space station supported three manned missions in 1973-1974?\n",
      "skyla ##b\n",
      "--------------------\n"
     ]
    }
   ],
   "source": [
    "context = \"The Apollo program, also known as Project Apollo, was the third United States human spaceflight \" \\\n",
    "          \"program carried out by the National Aeronautics and Space Administration (NASA), which accomplished \" \\\n",
    "          \"landing the first humans on the Moon from 1969 to 1972. First conceived during Dwight D. \" \\\n",
    "          \"Eisenhower's administration as a three-man spacecraft to follow the one-man Project Mercury which \" \\\n",
    "          \"put the first Americans in space, Apollo was later dedicated to President John F. Kennedy's \" \\\n",
    "          \"national goal of landing a man on the Moon and returning him safely to the Earth by the end of the \" \\\n",
    "          \"1960s, which he proposed in a May 25, 1961, address to Congress. Project Mercury was followed by \" \\\n",
    "          \"the two-man Project Gemini. The first manned flight of Apollo was in 1968. Apollo ran from 1961 to \" \\\n",
    "          \"1972, and was supported by the two-man Gemini program which ran concurrently with it from 1962 to \" \\\n",
    "          \"1966. Gemini missions developed some of the space travel techniques that were necessary for the \" \\\n",
    "          \"success of the Apollo missions. Apollo used Saturn family rockets as launch vehicles. Apollo/Saturn \" \\\n",
    "          \"vehicles were also used for an Apollo Applications Program, which consisted of Skylab, \" \\\n",
    "          \"a space station that supported three manned missions in 1973-74, and the Apollo-Soyuz Test Project, \" \\\n",
    "          \"a joint Earth orbit mission with the Soviet Union in 1975. \"\n",
    "\n",
    "Q1 = \"What project put the first Americans into space?\"\n",
    "Q2 = \"What program was created to carry out these projects and missions?\"\n",
    "Q3 = \"What year did the first manned Apollo flight occur?\"\n",
    "Q4 = \"What President is credited with the original notion of putting Americans in space?\"\n",
    "Q5 = \"Who did the U.S. collaborate with on an Earth orbit mission in 1975?\"\n",
    "Q6 = \"How long did Project Apollo run?\"\n",
    "Q7 = \"What program helped develop space travel techniques that Project Apollo used?\"\n",
    "Q8 = \"What space station supported three manned missions in 1973-1974?\"\n",
    "\n",
    "questions = [Q1, Q2, Q3, Q4, Q5, Q6, Q7, Q8]\n",
    "\n",
    "for question in questions:\n",
    "    answer = answer_question(question, context,model, tokenizer)\n",
    "    print(answer)\n",
    "    print('-' * 20)"
   ],
   "metadata": {
    "collapsed": false,
    "pycharm": {
     "name": "#%%\n"
    }
   }
  },
  {
   "cell_type": "markdown",
   "source": [
    "#### Trying Out of domain text"
   ],
   "metadata": {
    "collapsed": false
   }
  },
  {
   "cell_type": "code",
   "execution_count": 9,
   "outputs": [
    {
     "name": "stdout",
     "output_type": "stream",
     "text": [
      "Why are Machine learning systems hard to debug?\n",
      "\n",
      "--------------------\n",
      "What can happen if one part of machine learning model is broken?\n",
      "adapt and still achieve roughly acceptable performance\n",
      "--------------------\n",
      "What is the problem with evaluating intended behaviour?\n",
      "we do not know a prior ##i\n",
      "--------------------\n"
     ]
    }
   ],
   "source": [
    "context = \"When a machine learning system performs poorly, it is usually difficult to tell whether the poor performance is intrinsic to the algorithm\" \\\n",
    "          \" itself or whether there is a bug in the implementation of the algorithm.\" \\\n",
    "          \" Machine learning systems are difficult to debug for various reasons.\" \\\n",
    "          \"In most cases, we do not know a priori what the intended behavior of the algorithm is. \" \\\n",
    "          \"In fact, the entire point of using machine learning is that it will discover \" \\\n",
    "          \"useful behavior that we were not able to specify ourselves. \" \\\n",
    "          \"If we train a neural network on a new classification task and it achieves 5 percent test error,\" \\\n",
    "          \"we have no straightforward way of knowing if this is the expected behavior or suboptimal behavior.\" \\\n",
    "          \"A further difficult is that most machine learning models have multiple parts that are each adaptive.\" \\\n",
    "          \" If one part is broken, the other parts can adapt and still achieve roughly acceptable performance\"\n",
    "\n",
    "Q1 = \"Why are Machine learning systems hard to debug?\"\n",
    "Q2 = \"What can happen if one part of machine learning model is broken?\"\n",
    "Q3 = \"What is the problem with evaluating intended behaviour?\"\n",
    "\n",
    "for question in [Q1,Q2,Q3]:\n",
    "    answer = answer_question(question, context,model, tokenizer)\n",
    "    print(answer)\n",
    "    print('-' * 20)"
   ],
   "metadata": {
    "collapsed": false,
    "pycharm": {
     "name": "#%%\n"
    }
   }
  }
 ],
 "metadata": {
  "kernelspec": {
   "display_name": "Python 3",
   "language": "python",
   "name": "python3"
  },
  "language_info": {
   "codemirror_mode": {
    "name": "ipython",
    "version": 2
   },
   "file_extension": ".py",
   "mimetype": "text/x-python",
   "name": "python",
   "nbconvert_exporter": "python",
   "pygments_lexer": "ipython2",
   "version": "2.7.6"
  }
 },
 "nbformat": 4,
 "nbformat_minor": 0
}