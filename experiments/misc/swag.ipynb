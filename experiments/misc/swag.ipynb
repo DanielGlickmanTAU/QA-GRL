{
 "cells": [
  {
   "cell_type": "code",
   "execution_count": 3,
   "metadata": {
    "collapsed": true
   },
   "outputs": [
    {
     "name": "stderr",
     "output_type": "stream",
     "text": [
      "Reusing dataset swag (C:\\Users\\Daniel\\.cache\\huggingface\\datasets\\swag\\regular\\0.0.0\\f9784740e0964a3c799d68cec0d992cc267d3fe94f3e048175eca69d739b980d)\n"
     ]
    }
   ],
   "source": [
    "from datasets import load_dataset, load_metric\n",
    "dataset = load_dataset(\"swag\", \"regular\")"
   ]
  },
  {
   "cell_type": "code",
   "execution_count": 6,
   "outputs": [
    {
     "data": {
      "text/plain": "<IPython.core.display.HTML object>",
      "text/html": "<table border=\"1\" class=\"dataframe\">\n  <thead>\n    <tr style=\"text-align: right;\">\n      <th></th>\n      <th>ending0</th>\n      <th>ending1</th>\n      <th>ending2</th>\n      <th>ending3</th>\n      <th>fold-ind</th>\n      <th>gold-source</th>\n      <th>label</th>\n      <th>sent1</th>\n      <th>sent2</th>\n      <th>startphrase</th>\n      <th>video-id</th>\n    </tr>\n  </thead>\n  <tbody>\n    <tr>\n      <th>0</th>\n      <td>continues taking off the snow and is pulled off top.</td>\n      <td>runs into the camera.</td>\n      <td>turns around and goes back to the other room.</td>\n      <td>goes off and back.</td>\n      <td>2272</td>\n      <td>gold</td>\n      <td>2</td>\n      <td>A dog in socks walks slowly out onto the floor as a lady films him.</td>\n      <td>The dog</td>\n      <td>A dog in socks walks slowly out onto the floor as a lady films him. The dog</td>\n      <td>anetv_ogQozSI5V8U</td>\n    </tr>\n    <tr>\n      <th>1</th>\n      <td>puts his feet down on the stage in front of the audience while a band behind him talks to one another.</td>\n      <td>vigorously about to hit someone with his hands as other dancers pose offscreen for him.</td>\n      <td>is now watching them as the girls performance and hold each other after singing, dancing, dancing, and twirling and singing.</td>\n      <td>remains in the front of the triangle formation and continues to dance while the two behind her mimics her every move.</td>\n      <td>17606</td>\n      <td>gold</td>\n      <td>3</td>\n      <td>All of the ladies begin to dance in unison moving their hands from left to right and jumping from side to side.</td>\n      <td>The instructor</td>\n      <td>All of the ladies begin to dance in unison moving their hands from left to right and jumping from side to side. The instructor</td>\n      <td>anetv_31TT2oiYRO4</td>\n    </tr>\n    <tr>\n      <th>2</th>\n      <td>finishes her routine while flipping.</td>\n      <td>stretches her legs slightly.</td>\n      <td>holds the bar up to her height.</td>\n      <td>does push ups on the bar.</td>\n      <td>19781</td>\n      <td>gen</td>\n      <td>1</td>\n      <td>The girl stands to her feet.</td>\n      <td>the girl</td>\n      <td>The girl stands to her feet. the girl</td>\n      <td>anetv_TxYZLJQOHvY</td>\n    </tr>\n    <tr>\n      <th>3</th>\n      <td>swims through this wavy section.</td>\n      <td>drains his hair, then climbs over and turns to cuff her.</td>\n      <td>looks back at the house.</td>\n      <td>wraps his arms around someone, who now sits down and gently cups his hands with hers.</td>\n      <td>344</td>\n      <td>gen</td>\n      <td>3</td>\n      <td>She comes over and takes someone's hand.</td>\n      <td>Someone</td>\n      <td>She comes over and takes someone's hand. Someone</td>\n      <td>lsmdc1044_Pride_And_Prejudice_Disk_Two-89595</td>\n    </tr>\n    <tr>\n      <th>4</th>\n      <td>is not walking toward him.</td>\n      <td>breaks suddenly and backs up.</td>\n      <td>lets it into the elevator.</td>\n      <td>arrives at the motel center entrance and runs the street back holding a upside - upon straw.</td>\n      <td>17140</td>\n      <td>gold</td>\n      <td>1</td>\n      <td>The middle - aged man offers his keys nervously as someone drives down the street towards someone, and stops as someone slaps the bonnet off the Spanish police car.</td>\n      <td>Someone</td>\n      <td>The middle - aged man offers his keys nervously as someone drives down the street towards someone, and stops as someone slaps the bonnet off the Spanish police car. Someone</td>\n      <td>lsmdc1043_Vantage_Point-89397</td>\n    </tr>\n    <tr>\n      <th>5</th>\n      <td>get back into their car and put the snowboard on top of the car.</td>\n      <td>are racing in trash on the snow in front of them.</td>\n      <td>are in the snow above snow from the mountain.</td>\n      <td>are racing down a hill with swirling snow and cleaning them from the water.</td>\n      <td>16325</td>\n      <td>gold</td>\n      <td>0</td>\n      <td>People are snowboarding down a hill of snow.</td>\n      <td>People</td>\n      <td>People are snowboarding down a hill of snow. People</td>\n      <td>anetv_vu65aIIJHtU</td>\n    </tr>\n    <tr>\n      <th>6</th>\n      <td>gives a nod, brightens his eyes as someone looks through a tiny window.</td>\n      <td>lunges out of his way.</td>\n      <td>helps someone by lifting up the jug from someone's face.</td>\n      <td>looks up from the poster.</td>\n      <td>18204</td>\n      <td>gen</td>\n      <td>1</td>\n      <td>Someone nervously faces off with someone.</td>\n      <td>Someone</td>\n      <td>Someone nervously faces off with someone. Someone</td>\n      <td>lsmdc3042_KARATE_KID-20190</td>\n    </tr>\n    <tr>\n      <th>7</th>\n      <td>stands fully packed with boats.</td>\n      <td>is clear and bright, the sun shining over the skyscrapers of manhattan.</td>\n      <td>is a hydra production line as he listens in.</td>\n      <td>, she now runs through the apartment gates and outside into the evening.</td>\n      <td>4925</td>\n      <td>gold</td>\n      <td>1</td>\n      <td>She has the broadest of grins as she stands in the pouring rain, looking up into the sky.</td>\n      <td>The next day</td>\n      <td>She has the broadest of grins as she stands in the pouring rain, looking up into the sky. The next day</td>\n      <td>lsmdc1007_Spider-Man1-74761</td>\n    </tr>\n    <tr>\n      <th>8</th>\n      <td>drops four more forms.</td>\n      <td>push the side of the roof and is interviewed on the screen.</td>\n      <td>goes steadily while rollerblading.</td>\n      <td>pulls out some keys with a bat.</td>\n      <td>5413</td>\n      <td>gold</td>\n      <td>2</td>\n      <td>Two people are doing figure eights on a bridge as they roller blade.</td>\n      <td>One person</td>\n      <td>Two people are doing figure eights on a bridge as they roller blade. One person</td>\n      <td>anetv_Ffi7vDa3C2I</td>\n    </tr>\n    <tr>\n      <th>9</th>\n      <td>bouncing in the park in the snow.</td>\n      <td>standing up from the ladder.</td>\n      <td>skiing down slope with is knees bend down.</td>\n      <td>pulled on the kayak beside boat.</td>\n      <td>8133</td>\n      <td>gold</td>\n      <td>2</td>\n      <td>The man in red jacket is skiing on the slope.</td>\n      <td>The man in is</td>\n      <td>The man in red jacket is skiing on the slope. The man in is</td>\n      <td>anetv_dIlpPraDc-I</td>\n    </tr>\n  </tbody>\n</table>"
     },
     "metadata": {},
     "output_type": "display_data"
    }
   ],
   "source": [
    "import utils.visualization as visualization\n",
    "x= dataset['train']\n",
    "visualization.show_random_elements(x)"
   ],
   "metadata": {
    "collapsed": false,
    "pycharm": {
     "name": "#%%\n"
    }
   }
  },
  {
   "cell_type": "code",
   "execution_count": 7,
   "outputs": [
    {
     "name": "stderr",
     "output_type": "stream",
     "text": [
      "Some weights of the model checkpoint at distilbert-base-uncased-distilled-squad were not used when initializing DistilBertForSequenceClassification: ['qa_outputs.weight', 'qa_outputs.bias']\n",
      "- This IS expected if you are initializing DistilBertForSequenceClassification from the checkpoint of a model trained on another task or with another architecture (e.g. initializing a BertForSequenceClassification model from a BertForPreTraining model).\n",
      "- This IS NOT expected if you are initializing DistilBertForSequenceClassification from the checkpoint of a model that you expect to be exactly identical (initializing a BertForSequenceClassification model from a BertForSequenceClassification model).\n",
      "Some weights of DistilBertForSequenceClassification were not initialized from the model checkpoint at distilbert-base-uncased-distilled-squad and are newly initialized: ['pre_classifier.weight', 'pre_classifier.bias', 'classifier.weight', 'classifier.bias']\n",
      "You should probably TRAIN this model on a down-stream task to be able to use it for predictions and inference.\n"
     ]
    },
    {
     "name": "stdout",
     "output_type": "stream",
     "text": [
      "{'ending0': ['passes by walking down the street playing their instruments.', 'are playing ping pong and celebrating one left each in quick.'], 'ending1': ['has heard approaching them.', 'wait slowly towards the cadets.'], 'ending2': [\"arrives and they're outside dancing and asleep.\", 'continues to play as well along the crowd along with the band being interviewed.'], 'ending3': ['turns the lead singer watches the performance.', 'continue to play marching, interspersed.'], 'fold-ind': ['3416', '3417'], 'gold-source': ['gold', 'gen'], 'label': [0, 3], 'sent1': ['Members of the procession walk down the street holding small horn brass instruments.', 'A drum line passes by walking down the street playing their instruments.'], 'sent2': ['A drum line', 'Members of the procession'], 'startphrase': ['Members of the procession walk down the street holding small horn brass instruments. A drum line', 'A drum line passes by walking down the street playing their instruments. Members of the procession'], 'video-id': ['anetv_jkn6uvmqwh4', 'anetv_jkn6uvmqwh4']}\n",
      "{'input_ids': [[101, 2372, 1997, 1996, 14385, 3328, 2091, 1996, 2395, 3173, 2235, 7109, 8782, 5693, 1012, 102, 1037, 6943, 2240, 5235, 2011, 3788, 2091, 1996, 2395, 2652, 2037, 5693, 1012, 102], [101, 2372, 1997, 1996, 14385, 3328, 2091, 1996, 2395, 3173, 2235, 7109, 8782, 5693, 1012, 102, 1037, 6943, 2240, 2038, 2657, 8455, 2068, 1012, 102], [101, 2372, 1997, 1996, 14385, 3328, 2091, 1996, 2395, 3173, 2235, 7109, 8782, 5693, 1012, 102, 1037, 6943, 2240, 8480, 1998, 2027, 1005, 2128, 2648, 5613, 1998, 6680, 1012, 102], [101, 2372, 1997, 1996, 14385, 3328, 2091, 1996, 2395, 3173, 2235, 7109, 8782, 5693, 1012, 102, 1037, 6943, 2240, 4332, 1996, 2599, 3220, 12197, 1996, 2836, 1012, 102], [101, 1037, 6943, 2240, 5235, 2011, 3788, 2091, 1996, 2395, 2652, 2037, 5693, 1012, 102, 2372, 1997, 1996, 14385, 2024, 2652, 17852, 13433, 3070, 1998, 12964, 2028, 2187, 2169, 1999, 4248, 1012, 102], [101, 1037, 6943, 2240, 5235, 2011, 3788, 2091, 1996, 2395, 2652, 2037, 5693, 1012, 102, 2372, 1997, 1996, 14385, 3524, 3254, 2875, 1996, 15724, 1012, 102], [101, 1037, 6943, 2240, 5235, 2011, 3788, 2091, 1996, 2395, 2652, 2037, 5693, 1012, 102, 2372, 1997, 1996, 14385, 4247, 2000, 2377, 2004, 2092, 2247, 1996, 4306, 2247, 2007, 1996, 2316, 2108, 10263, 1012, 102], [101, 1037, 6943, 2240, 5235, 2011, 3788, 2091, 1996, 2395, 2652, 2037, 5693, 1012, 102, 2372, 1997, 1996, 14385, 3613, 2000, 2377, 10998, 1010, 25338, 1012, 102]], 'attention_mask': [[1, 1, 1, 1, 1, 1, 1, 1, 1, 1, 1, 1, 1, 1, 1, 1, 1, 1, 1, 1, 1, 1, 1, 1, 1, 1, 1, 1, 1, 1], [1, 1, 1, 1, 1, 1, 1, 1, 1, 1, 1, 1, 1, 1, 1, 1, 1, 1, 1, 1, 1, 1, 1, 1, 1], [1, 1, 1, 1, 1, 1, 1, 1, 1, 1, 1, 1, 1, 1, 1, 1, 1, 1, 1, 1, 1, 1, 1, 1, 1, 1, 1, 1, 1, 1], [1, 1, 1, 1, 1, 1, 1, 1, 1, 1, 1, 1, 1, 1, 1, 1, 1, 1, 1, 1, 1, 1, 1, 1, 1, 1, 1, 1], [1, 1, 1, 1, 1, 1, 1, 1, 1, 1, 1, 1, 1, 1, 1, 1, 1, 1, 1, 1, 1, 1, 1, 1, 1, 1, 1, 1, 1, 1, 1, 1, 1], [1, 1, 1, 1, 1, 1, 1, 1, 1, 1, 1, 1, 1, 1, 1, 1, 1, 1, 1, 1, 1, 1, 1, 1, 1, 1], [1, 1, 1, 1, 1, 1, 1, 1, 1, 1, 1, 1, 1, 1, 1, 1, 1, 1, 1, 1, 1, 1, 1, 1, 1, 1, 1, 1, 1, 1, 1, 1, 1, 1, 1], [1, 1, 1, 1, 1, 1, 1, 1, 1, 1, 1, 1, 1, 1, 1, 1, 1, 1, 1, 1, 1, 1, 1, 1, 1, 1, 1]], 'label': [1, 0, 0, 0, 0, 0, 0, 1]}\n",
      "['[CLS] members of the procession walk down the street holding small horn brass instruments. [SEP] a drum line passes by walking down the street playing their instruments. [SEP]\\n', '[CLS] members of the procession walk down the street holding small horn brass instruments. [SEP] a drum line has heard approaching them. [SEP]\\n', \"[CLS] members of the procession walk down the street holding small horn brass instruments. [SEP] a drum line arrives and they're outside dancing and asleep. [SEP]\\n\", '[CLS] members of the procession walk down the street holding small horn brass instruments. [SEP] a drum line turns the lead singer watches the performance. [SEP]\\n']\n"
     ]
    }
   ],
   "source": [
    "from utils.model_loading import get_model_and_tokenizer_for_classification\n",
    "import  utils.datasets_loading as datasets_loading\n",
    "\n",
    "#Load model for classification\n",
    "model, tokenizer = get_model_and_tokenizer_for_classification()\n",
    "\n",
    "a = x[:2]\n",
    "#tokenize the data into vectors\n",
    "processed = datasets_loading.preprocess_function_swag(a, tokenizer)\n",
    "\n",
    "print(a)\n",
    "#print the vectors\n",
    "print(processed)\n",
    "#decode back to see we get the original sentences\n",
    "print([tokenizer.decode(processed['input_ids'][i]) + '\\n' for i in range(4)] )"
   ],
   "metadata": {
    "collapsed": false,
    "pycharm": {
     "name": "#%%\n"
    }
   }
  },
  {
   "cell_type": "markdown",
   "source": [
    "now run training on tiny set"
   ],
   "metadata": {
    "collapsed": false,
    "pycharm": {
     "name": "#%% md\n"
    }
   }
  },
  {
   "cell_type": "code",
   "execution_count": null,
   "outputs": [
    {
     "data": {
      "text/plain": "HBox(children=(FloatProgress(value=0.0, max=74.0), HTML(value='')))",
      "application/vnd.jupyter.widget-view+json": {
       "version_major": 2,
       "version_minor": 0,
       "model_id": "5b3cb992af3c4ab5a9177503020c2d7d"
      }
     },
     "metadata": {},
     "output_type": "display_data"
    },
    {
     "name": "stdout",
     "output_type": "stream",
     "text": [
      "\n",
      "\n",
      "\n",
      "preprocess_swag took  42.20380163192749 seconds\n"
     ]
    },
    {
     "data": {
      "text/plain": "HBox(children=(FloatProgress(value=0.0, max=21.0), HTML(value='')))",
      "application/vnd.jupyter.widget-view+json": {
       "version_major": 2,
       "version_minor": 0,
       "model_id": "de9a8bdd4a2c4ab1a007bd1c4a1f5b4f"
      }
     },
     "metadata": {},
     "output_type": "display_data"
    },
    {
     "data": {
      "text/plain": "HBox(children=(FloatProgress(value=0.0, max=21.0), HTML(value='')))",
      "application/vnd.jupyter.widget-view+json": {
       "version_major": 2,
       "version_minor": 0,
       "model_id": "3480ecf6fa97417fb021d6b4234fb2ee"
      }
     },
     "metadata": {},
     "output_type": "display_data"
    },
    {
     "data": {
      "text/plain": "<IPython.core.display.HTML object>",
      "text/html": "\n    <div>\n        <style>\n            /* Turns off some styling */\n            progress {\n                /* gets rid of default border in Firefox and Opera. */\n                border: none;\n                /* Needs to be in here for Safari polyfill so background images work as expected. */\n                background-size: auto;\n            }\n        </style>\n      \n      <progress value='2' max='100' style='width:300px; height:20px; vertical-align: middle;'></progress>\n      [  2/100 : < :, Epoch 0.50/50]\n    </div>\n    <table border=\"1\" class=\"dataframe\">\n  <thead>\n    <tr style=\"text-align: left;\">\n      <th>Epoch</th>\n      <th>Training Loss</th>\n      <th>Validation Loss</th>\n    </tr>\n  </thead>\n  <tbody>\n  </tbody>\n</table><p>"
     },
     "metadata": {},
     "output_type": "display_data"
    }
   ],
   "source": [
    "import utils.datasets_loading as datasets_loading\n",
    "encoded_dataset = datasets_loading.preprocess_swag(dataset,tokenizer)\n",
    "\n",
    "from transformers import TrainingArguments, Trainer\n",
    "\n",
    "metric_name = \"accuracy\"\n",
    "batch_size = 12\n",
    "\n",
    "benchmark_folder_name = \"swag-classification\"\n",
    "args = TrainingArguments(\n",
    "    benchmark_folder_name,\n",
    "    evaluation_strategy=\"epoch\",\n",
    "    learning_rate=2e-5,\n",
    "    per_device_train_batch_size=batch_size,\n",
    "    per_device_eval_batch_size=batch_size,\n",
    "    num_train_epochs=50,\n",
    "    weight_decay=0.01,\n",
    "    load_best_model_at_end=True,\n",
    "    #todo fix one use accuracy metric(use sklearn)\n",
    "    # metric_for_best_model=metric_name,\n",
    ")\n",
    "\n",
    "#todo fix accuracy\n",
    "# metric = load_metric(metric_name)\n",
    "\n",
    "def compute_metrics(eval_pred):\n",
    "    predictions, labels = eval_pred\n",
    "    predictions = predictions.argmax(axis=1)\n",
    "    return predictions == labels\n",
    "\n",
    "\n",
    "validation_key = \"validation\"\n",
    "\n",
    "trainer = Trainer(\n",
    "    model,\n",
    "    args,\n",
    "    train_dataset=encoded_dataset[\"train\"].select(range(20)),\n",
    "                                #todo fit on real validation data\n",
    "    eval_dataset=encoded_dataset[\"train\"].select(range(20)),\n",
    "    # eval_dataset=encoded_dataset[validation_key].select(range(10)),\n",
    "    tokenizer=tokenizer,\n",
    "    #todo fix accyracy\n",
    "    # compute_metrics=compute_metrics\n",
    ")\n",
    "\n",
    "trainer.train()"
   ],
   "metadata": {
    "collapsed": false,
    "pycharm": {
     "name": "#%%\n",
     "is_executing": true
    }
   }
  }
 ],
 "metadata": {
  "kernelspec": {
   "display_name": "Python 3",
   "language": "python",
   "name": "python3"
  },
  "language_info": {
   "codemirror_mode": {
    "name": "ipython",
    "version": 2
   },
   "file_extension": ".py",
   "mimetype": "text/x-python",
   "name": "python",
   "nbconvert_exporter": "python",
   "pygments_lexer": "ipython2",
   "version": "2.7.6"
  }
 },
 "nbformat": 4,
 "nbformat_minor": 0
}