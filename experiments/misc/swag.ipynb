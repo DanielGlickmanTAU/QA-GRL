{
 "cells": [
  {
   "cell_type": "code",
   "execution_count": 32,
   "metadata": {
    "collapsed": true
   },
   "outputs": [
    {
     "name": "stderr",
     "output_type": "stream",
     "text": [
      "Reusing dataset swag (C:\\Users\\Daniel\\.cache\\huggingface\\datasets\\swag\\regular\\0.0.0\\f9784740e0964a3c799d68cec0d992cc267d3fe94f3e048175eca69d739b980d)\n"
     ]
    }
   ],
   "source": [
    "from datasets import load_dataset, load_metric\n",
    "dataset = load_dataset(\"swag\", \"regular\")"
   ]
  },
  {
   "cell_type": "code",
   "execution_count": 34,
   "outputs": [
    {
     "name": "stdout",
     "output_type": "stream",
     "text": [
      "Dataset({\n",
      "    features: ['video-id', 'fold-ind', 'startphrase', 'sent1', 'sent2', 'gold-source', 'ending0', 'ending1', 'ending2', 'ending3', 'label'],\n",
      "    num_rows: 73546\n",
      "})\n",
      "73546\n",
      "adsa\n"
     ]
    },
    {
     "data": {
      "text/plain": "<IPython.core.display.HTML object>",
      "text/html": "<table border=\"1\" class=\"dataframe\">\n  <thead>\n    <tr style=\"text-align: right;\">\n      <th></th>\n      <th>ending0</th>\n      <th>ending1</th>\n      <th>ending2</th>\n      <th>ending3</th>\n      <th>fold-ind</th>\n      <th>gold-source</th>\n      <th>label</th>\n      <th>sent1</th>\n      <th>sent2</th>\n      <th>startphrase</th>\n      <th>video-id</th>\n    </tr>\n  </thead>\n  <tbody>\n    <tr>\n      <th>0</th>\n      <td>flops down beside someone.</td>\n      <td>hobbles on to a desk.</td>\n      <td>heads back in the spacious basement towards a grand building.</td>\n      <td>takes an empty wrapper on someone's dinner table.</td>\n      <td>14356</td>\n      <td>gold</td>\n      <td>0</td>\n      <td>Someone surfaces from the bed sheets then gives her a smug smile.</td>\n      <td>He</td>\n      <td>Someone surfaces from the bed sheets then gives her a smug smile. He</td>\n      <td>lsmdc3026_FRIENDS_WITH_BENEFITS-1314</td>\n    </tr>\n    <tr>\n      <th>1</th>\n      <td>go back to the beginning of the world.</td>\n      <td>see her at the end being pulled in a wagon.</td>\n      <td>see all the woman riding kayak first two at a time.</td>\n      <td>see the skier coming and the helicopter is launched from a different space on the rope.</td>\n      <td>14467</td>\n      <td>gold</td>\n      <td>1</td>\n      <td>Then she is in a sled going down a hill and more still shots of her are shown, some with a woman.</td>\n      <td>At the end she get the hang of snowboarding and goes down the hill on her own, and we</td>\n      <td>Then she is in a sled going down a hill and more still shots of her are shown, some with a woman. At the end she get the hang of snowboarding and goes down the hill on her own, and we</td>\n      <td>anetv_2r7qhNGm44I</td>\n    </tr>\n    <tr>\n      <th>2</th>\n      <td>show product as the video ends.</td>\n      <td>are shown on screen.</td>\n      <td>are shown on the screen.</td>\n      <td>are shown along with the various text and the intro.</td>\n      <td>14386</td>\n      <td>gen</td>\n      <td>2</td>\n      <td>Several clips are shown of people enjoying different sports and activities.</td>\n      <td>After the interview ends, the closing credits</td>\n      <td>Several clips are shown of people enjoying different sports and activities. After the interview ends, the closing credits</td>\n      <td>anetv_YaIuavIbk6A</td>\n    </tr>\n    <tr>\n      <th>3</th>\n      <td>is talking to her.</td>\n      <td>finishes talking in front of a band.</td>\n      <td>holds up a revolver.</td>\n      <td>pinches her lips together.</td>\n      <td>11421</td>\n      <td>gold</td>\n      <td>3</td>\n      <td>As someone and his friends watch, someone mouths, This woman's crazy..</td>\n      <td>He</td>\n      <td>As someone and his friends watch, someone mouths, This woman's crazy.. He</td>\n      <td>lsmdc3001_21_JUMP_STREET-329</td>\n    </tr>\n    <tr>\n      <th>4</th>\n      <td>struggles to the end and continues to swing against the grill.</td>\n      <td>goes across the monkey bars effortlessly.</td>\n      <td>jumps over the high beam.</td>\n      <td>keeps drinking from her soda, laughing with each other while holding a guitar in her hands.</td>\n      <td>5623</td>\n      <td>gold</td>\n      <td>1</td>\n      <td>A girl in a purple shirt enjoys her time at the playground.</td>\n      <td>She</td>\n      <td>A girl in a purple shirt enjoys her time at the playground. She</td>\n      <td>anetv_m16Cn9VA3Lk</td>\n    </tr>\n    <tr>\n      <th>5</th>\n      <td>follow after the cops.</td>\n      <td>show up to an elevator.</td>\n      <td>makes their way to someone's back.</td>\n      <td>jump to their feet and perform jumping jacks.</td>\n      <td>4693</td>\n      <td>gold</td>\n      <td>3</td>\n      <td>Nearby, Col. someone walks with someone.</td>\n      <td>The recruits</td>\n      <td>Nearby, Col. someone walks with someone. The recruits</td>\n      <td>lsmdc3014_CAPTAIN_AMERICA-5387</td>\n    </tr>\n    <tr>\n      <th>6</th>\n      <td>takes them back and runs back to her.</td>\n      <td>his hand in his pocket, someone lays his fingertips on the ottoman, and looks around.</td>\n      <td>step forward and spin.</td>\n      <td>carry someone wrapped in a blanket across a balcony.</td>\n      <td>4175</td>\n      <td>gold</td>\n      <td>3</td>\n      <td>They bump his head on a door frame.</td>\n      <td>They</td>\n      <td>They bump his head on a door frame. They</td>\n      <td>lsmdc3091_ZOMBIELAND-44712</td>\n    </tr>\n    <tr>\n      <th>7</th>\n      <td>uses a towel to clean the cement off of the towel.</td>\n      <td>turns and dry his hands.</td>\n      <td>adds detergent to a hatch.</td>\n      <td>surfaces and swims the water.</td>\n      <td>11204</td>\n      <td>gold</td>\n      <td>1</td>\n      <td>After, the man wash the pot outside and inside.</td>\n      <td>Next, the man</td>\n      <td>After, the man wash the pot outside and inside. Next, the man</td>\n      <td>anetv_OtMNVvCSxVo</td>\n    </tr>\n    <tr>\n      <th>8</th>\n      <td>walked past the man then him.</td>\n      <td>start walking through the street.</td>\n      <td>showed his bleeding cuts in front of the camera.</td>\n      <td>is back to his skateboard and dives forward into the street.</td>\n      <td>6120</td>\n      <td>gold</td>\n      <td>2</td>\n      <td>A man in orange stop is skateboarding in the dark street and fell on the ground.</td>\n      <td>A man in black shirt skateboard down the wide road and fell on the side of the road, the man</td>\n      <td>A man in orange stop is skateboarding in the dark street and fell on the ground. A man in black shirt skateboard down the wide road and fell on the side of the road, the man</td>\n      <td>anetv_BGeB6KEQM94</td>\n    </tr>\n    <tr>\n      <th>9</th>\n      <td>is doing karate moves on a tiled floor.</td>\n      <td>holds a ball and talks to the camera between him.</td>\n      <td>is running on the floor again.</td>\n      <td>picks up a tool before turning it to the drum of the guy.</td>\n      <td>1309</td>\n      <td>gold</td>\n      <td>0</td>\n      <td>A guy is bending over and touching the floor.</td>\n      <td>The guy</td>\n      <td>A guy is bending over and touching the floor. The guy</td>\n      <td>anetv_IZNrdIkMCoc</td>\n    </tr>\n  </tbody>\n</table>"
     },
     "metadata": {},
     "output_type": "display_data"
    }
   ],
   "source": [
    "import utils.visualization as visualization\n",
    "x= dataset['train']\n",
    "visualization.show_random_elements(x)"
   ],
   "metadata": {
    "collapsed": false,
    "pycharm": {
     "name": "#%%\n"
    }
   }
  }
 ],
 "metadata": {
  "kernelspec": {
   "display_name": "Python 3",
   "language": "python",
   "name": "python3"
  },
  "language_info": {
   "codemirror_mode": {
    "name": "ipython",
    "version": 2
   },
   "file_extension": ".py",
   "mimetype": "text/x-python",
   "name": "python",
   "nbconvert_exporter": "python",
   "pygments_lexer": "ipython2",
   "version": "2.7.6"
  }
 },
 "nbformat": 4,
 "nbformat_minor": 0
}