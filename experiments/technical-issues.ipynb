{
 "cells": [
  {
   "cell_type": "markdown",
   "metadata": {
    "collapsed": true,
    "pycharm": {
     "name": "#%% md\n"
    }
   },
   "source": [
    "## Documents various technical issues that appeared during the project, what is their indication and how were they fixed.\n",
    "\n",
    "\n",
    "\n"
   ]
  },
  {
   "cell_type": "markdown",
   "source": [
    "memory is exploding by the end of the batch in generatoin.\n",
    " prediction_loss_only=True solved it\n",
    " it may have kept the whole validation set in gpu\n",
    "\n",
    "\n",
    "#### Issue: Training gets stuck in question generation after a few batchs\n",
    "first seemed like tqdm issue. disabled that.\n",
    "Now looks like dataloader multiprocessing issue.\n",
    "Moving to using a single gpu for this.\n",
    "Should try changing num_workers.."
   ],
   "metadata": {
    "collapsed": false
   }
  },
  {
   "cell_type": "markdown",
   "source": [
    "#### _Issue:_  Could not load saved toknizer."
   ],
   "metadata": {
    "collapsed": false
   }
  },
  {
   "cell_type": "code",
   "execution_count": null,
   "outputs": [],
   "source": [
    "AutoTokenizer.from_pretrained(model_name)\n",
    "\n",
    "fails with error\n",
    "\n",
    "OSError: Can't load config for 'distilbert-base-uncased\n",
    "\n",
    "- 'distilbert-base-uncased' is the correct path to a directory containing a config.json file"
   ],
   "metadata": {
    "collapsed": false,
    "pycharm": {
     "name": "#%%\n"
    }
   }
  },
  {
   "cell_type": "markdown",
   "source": [
    "#### Solution:\n",
    "it was trying to load from wrong path. 'model_name/toknizer_config.json' instead of 'model_name/config.json'\n",
    "\n",
    "Use AutoConfig to save the config(looks like hhuggingface bug)"
   ],
   "metadata": {
    "collapsed": false
   }
  },
  {
   "cell_type": "markdown",
   "source": [
    "### Adding special token to vocab:"
   ],
   "metadata": {
    "collapsed": false
   }
  },
  {
   "cell_type": "code",
   "execution_count": null,
   "outputs": [],
   "source": [
    "tokenizer.add_special_tokens({'additional_special_tokens': ['MyTOKEN1','MYTOKEN2']})\n",
    "model.resize_token_embeddings(len(tokenizer))"
   ],
   "metadata": {
    "collapsed": false,
    "pycharm": {
     "name": "#%%\n"
    }
   }
  }
 ],
 "metadata": {
  "kernelspec": {
   "display_name": "Python 3",
   "language": "python",
   "name": "python3"
  },
  "language_info": {
   "codemirror_mode": {
    "name": "ipython",
    "version": 2
   },
   "file_extension": ".py",
   "mimetype": "text/x-python",
   "name": "python",
   "nbconvert_exporter": "python",
   "pygments_lexer": "ipython2",
   "version": "2.7.6"
  }
 },
 "nbformat": 4,
 "nbformat_minor": 0
}